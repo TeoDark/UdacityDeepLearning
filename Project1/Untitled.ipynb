{
 "cells": [
  {
   "cell_type": "code",
   "execution_count": 1,
   "metadata": {
    "collapsed": false
   },
   "outputs": [
    {
     "name": "stdout",
     "output_type": "stream",
     "text": [
      "mnorzenie macierzy\n",
      "[[ 0.05 -0.08 -0.03]\n",
      " [-0.1  -0.1   0.02]]\n",
      "suma\n",
      "[-0.05 -0.18 -0.01]\n",
      "wagi.T\n",
      "[[ 0.1 -0.2]\n",
      " [ 0.4  0.5]\n",
      " [-0.3  0.2]]\n",
      "inne\n"
     ]
    },
    {
     "data": {
      "text/plain": [
       "array([-0.06, -0.18])"
      ]
     },
     "execution_count": 1,
     "metadata": {},
     "output_type": "execute_result"
    }
   ],
   "source": [
    "%matplotlib inline\n",
    "%config InlineBackend.figure_format = 'retina'\n",
    "\n",
    "import numpy as np\n",
    "import pandas as pd\n",
    "import matplotlib.pyplot as plt\n",
    "\n",
    "inputs = [0.5, -0.2, 0.1]\n",
    "targets = [0.4]\n",
    "test_w_i_h = np.array([[0.1, 0.4, -0.3], \n",
    "                       [-0.2, 0.5, 0.2]])\n",
    "test_w_h_o = np.array([[0.3, -0.1]])\n",
    "\n",
    "\n",
    "\n",
    "print(\"mnorzenie macierzy\")\n",
    "print(inputs*test_w_i_h)\n",
    "\n",
    "print(\"suma\")\n",
    "print(sum(inputs*test_w_i_h))\n",
    "\n",
    "print(\"wagi.T\")\n",
    "print(test_w_i_h.T)\n",
    "\n",
    "print(\"inne\")\n",
    "np.dot(inputs, test_w_i_h.T)"
   ]
  },
  {
   "cell_type": "code",
   "execution_count": 36,
   "metadata": {
    "collapsed": false
   },
   "outputs": [
    {
     "name": "stdout",
     "output_type": "stream",
     "text": [
      "2.1\n"
     ]
    }
   ],
   "source": [
    "q=2.1\n",
    "print(q)"
   ]
  },
  {
   "cell_type": "code",
   "execution_count": 37,
   "metadata": {
    "collapsed": false
   },
   "outputs": [
    {
     "name": "stdout",
     "output_type": "stream",
     "text": [
      "[2, 4, 5]\n",
      "[2.1, 5.6, -9.23]\n",
      "[[2, 4, 5], [2.1, 5.6, -9.23]]\n"
     ]
    }
   ],
   "source": [
    "a = [2, 4, 5]\n",
    "print(a)\n",
    "b = [2.1, 5.6, -9.23]\n",
    "print(b)\n",
    "c = [a, b]\n",
    "print(c)"
   ]
  },
  {
   "cell_type": "code",
   "execution_count": 2,
   "metadata": {
    "collapsed": false
   },
   "outputs": [
    {
     "data": {
      "text/plain": [
       "4.5"
      ]
     },
     "execution_count": 2,
     "metadata": {},
     "output_type": "execute_result"
    }
   ],
   "source": [
    "9/2"
   ]
  },
  {
   "cell_type": "code",
   "execution_count": null,
   "metadata": {
    "collapsed": true
   },
   "outputs": [],
   "source": []
  },
  {
   "cell_type": "code",
   "execution_count": null,
   "metadata": {
    "collapsed": true
   },
   "outputs": [],
   "source": []
  },
  {
   "cell_type": "code",
   "execution_count": null,
   "metadata": {
    "collapsed": true
   },
   "outputs": [],
   "source": []
  }
 ],
 "metadata": {
  "kernelspec": {
   "display_name": "Python 3",
   "language": "python",
   "name": "python3"
  },
  "language_info": {
   "codemirror_mode": {
    "name": "ipython",
    "version": 3
   },
   "file_extension": ".py",
   "mimetype": "text/x-python",
   "name": "python",
   "nbconvert_exporter": "python",
   "pygments_lexer": "ipython3",
   "version": "3.6.0"
  }
 },
 "nbformat": 4,
 "nbformat_minor": 2
}
