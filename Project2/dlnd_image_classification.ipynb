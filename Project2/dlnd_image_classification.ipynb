{
 "cells": [
  {
   "cell_type": "markdown",
   "metadata": {
    "collapsed": true,
    "deletable": true,
    "editable": true
   },
   "source": [
    "# Image Classification\n",
    "In this project, you'll classify images from the [CIFAR-10 dataset](https://www.cs.toronto.edu/~kriz/cifar.html).  The dataset consists of airplanes, dogs, cats, and other objects. You'll preprocess the images, then train a convolutional neural network on all the samples. The images need to be normalized and the labels need to be one-hot encoded.  You'll get to apply what you learned and build a convolutional, max pooling, dropout, and fully connected layers.  At the end, you'll get to see your neural network's predictions on the sample images.\n",
    "## Get the Data\n",
    "Run the following cell to download the [CIFAR-10 dataset for python](https://www.cs.toronto.edu/~kriz/cifar-10-python.tar.gz)."
   ]
  },
  {
   "cell_type": "code",
   "execution_count": 1,
   "metadata": {
    "collapsed": false,
    "deletable": true,
    "editable": true
   },
   "outputs": [
    {
     "name": "stdout",
     "output_type": "stream",
     "text": [
      "All files found!\n"
     ]
    }
   ],
   "source": [
    "\"\"\"\n",
    "DON'T MODIFY ANYTHING IN THIS CELL THAT IS BELOW THIS LINE\n",
    "\"\"\"\n",
    "from urllib.request import urlretrieve\n",
    "from os.path import isfile, isdir\n",
    "from tqdm import tqdm\n",
    "import problem_unittests as tests\n",
    "import tarfile\n",
    "\n",
    "cifar10_dataset_folder_path = 'cifar-10-batches-py'\n",
    "\n",
    "class DLProgress(tqdm):\n",
    "    last_block = 0\n",
    "\n",
    "    def hook(self, block_num=1, block_size=1, total_size=None):\n",
    "        self.total = total_size\n",
    "        self.update((block_num - self.last_block) * block_size)\n",
    "        self.last_block = block_num\n",
    "\n",
    "if not isfile('cifar-10-python.tar.gz'):\n",
    "    with DLProgress(unit='B', unit_scale=True, miniters=1, desc='CIFAR-10 Dataset') as pbar:\n",
    "        urlretrieve(\n",
    "            'https://www.cs.toronto.edu/~kriz/cifar-10-python.tar.gz',\n",
    "            'cifar-10-python.tar.gz',\n",
    "            pbar.hook)\n",
    "\n",
    "if not isdir(cifar10_dataset_folder_path):\n",
    "    with tarfile.open('cifar-10-python.tar.gz') as tar:\n",
    "        tar.extractall()\n",
    "        tar.close()\n",
    "\n",
    "\n",
    "tests.test_folder_path(cifar10_dataset_folder_path)"
   ]
  },
  {
   "cell_type": "markdown",
   "metadata": {
    "deletable": true,
    "editable": true
   },
   "source": [
    "## Explore the Data\n",
    "The dataset is broken into batches to prevent your machine from running out of memory.  The CIFAR-10 dataset consists of 5 batches, named `data_batch_1`, `data_batch_2`, etc.. Each batch contains the labels and images that are one of the following:\n",
    "* airplane\n",
    "* automobile\n",
    "* bird\n",
    "* cat\n",
    "* deer\n",
    "* dog\n",
    "* frog\n",
    "* horse\n",
    "* ship\n",
    "* truck\n",
    "\n",
    "Understanding a dataset is part of making predictions on the data.  Play around with the code cell below by changing the `batch_id` and `sample_id`. The `batch_id` is the id for a batch (1-5). The `sample_id` is the id for a image and label pair in the batch.\n",
    "\n",
    "Ask yourself \"What are all possible labels?\", \"What is the range of values for the image data?\", \"Are the labels in order or random?\".  Answers to questions like these will help you preprocess the data and end up with better predictions."
   ]
  },
  {
   "cell_type": "code",
   "execution_count": 2,
   "metadata": {
    "collapsed": false,
    "deletable": true,
    "editable": true
   },
   "outputs": [
    {
     "name": "stdout",
     "output_type": "stream",
     "text": [
      "\n",
      "Stats of batch 1:\n",
      "Samples: 10000\n",
      "Label Counts: {0: 1005, 1: 974, 2: 1032, 3: 1016, 4: 999, 5: 937, 6: 1030, 7: 1001, 8: 1025, 9: 981}\n",
      "First 20 Labels: [6, 9, 9, 4, 1, 1, 2, 7, 8, 3, 4, 7, 7, 2, 9, 9, 9, 3, 2, 6]\n",
      "\n",
      "Example of Image 14:\n",
      "Image - Min Value: 1 Max Value: 255\n",
      "Image - Shape: (32, 32, 3)\n",
      "Label - Label Id: 9 Name: truck\n",
      "\n",
      "Stats of batch 2:\n",
      "Samples: 10000\n",
      "Label Counts: {0: 984, 1: 1007, 2: 1010, 3: 995, 4: 1010, 5: 988, 6: 1008, 7: 1026, 8: 987, 9: 985}\n",
      "First 20 Labels: [1, 6, 6, 8, 8, 3, 4, 6, 0, 6, 0, 3, 6, 6, 5, 4, 8, 3, 2, 6]\n",
      "\n",
      "Example of Image 14:\n",
      "Image - Min Value: 6 Max Value: 202\n",
      "Image - Shape: (32, 32, 3)\n",
      "Label - Label Id: 5 Name: dog\n",
      "\n",
      "Stats of batch 3:\n",
      "Samples: 10000\n",
      "Label Counts: {0: 994, 1: 1042, 2: 965, 3: 997, 4: 990, 5: 1029, 6: 978, 7: 1015, 8: 961, 9: 1029}\n",
      "First 20 Labels: [8, 5, 0, 6, 9, 2, 8, 3, 6, 2, 7, 4, 6, 9, 0, 0, 7, 3, 7, 2]\n",
      "\n",
      "Example of Image 14:\n",
      "Image - Min Value: 6 Max Value: 250\n",
      "Image - Shape: (32, 32, 3)\n",
      "Label - Label Id: 0 Name: airplane\n",
      "\n",
      "Stats of batch 4:\n",
      "Samples: 10000\n",
      "Label Counts: {0: 1003, 1: 963, 2: 1041, 3: 976, 4: 1004, 5: 1021, 6: 1004, 7: 981, 8: 1024, 9: 983}\n",
      "First 20 Labels: [0, 6, 0, 2, 7, 2, 1, 2, 4, 1, 5, 6, 6, 3, 1, 3, 5, 5, 8, 1]\n",
      "\n",
      "Example of Image 14:\n",
      "Image - Min Value: 7 Max Value: 255\n",
      "Image - Shape: (32, 32, 3)\n",
      "Label - Label Id: 1 Name: automobile\n",
      "\n",
      "Stats of batch 5:\n",
      "Samples: 10000\n",
      "Label Counts: {0: 1014, 1: 1014, 2: 952, 3: 1016, 4: 997, 5: 1025, 6: 980, 7: 977, 8: 1003, 9: 1022}\n",
      "First 20 Labels: [1, 8, 5, 1, 5, 7, 4, 3, 8, 2, 7, 2, 0, 1, 5, 9, 6, 2, 0, 8]\n",
      "\n",
      "Example of Image 14:\n",
      "Image - Min Value: 5 Max Value: 255\n",
      "Image - Shape: (32, 32, 3)\n",
      "Label - Label Id: 5 Name: dog\n"
     ]
    },
    {
     "data": {
      "image/png": "[encoded data removed]",
      "text/plain": [
       "<matplotlib.figure.Figure at 0x7fb3aaaf4630>"
      ]
     },
     "metadata": {
      "image/png": {
       "height": 250,
       "width": 253
      }
     },
     "output_type": "display_data"
    }
   ],
   "source": [
    "%matplotlib inline\n",
    "%config InlineBackend.figure_format = 'retina'\n",
    "\n",
    "import helper\n",
    "import numpy as np\n",
    "\n",
    "# Explore the dataset\n",
    "batch_id = 1\n",
    "sample_id = 14\n",
    "helper.display_stats(cifar10_dataset_folder_path, batch_id, sample_id)\n",
    "helper.display_stats(cifar10_dataset_folder_path, batch_id+1, sample_id)\n",
    "helper.display_stats(cifar10_dataset_folder_path, batch_id+2, sample_id)\n",
    "helper.display_stats(cifar10_dataset_folder_path, batch_id+3, sample_id)\n",
    "helper.display_stats(cifar10_dataset_folder_path, batch_id+4, sample_id)"
   ]
  },
  {
   "cell_type": "markdown",
   "metadata": {
    "deletable": true,
    "editable": true
   },
   "source": [
    "## Implement Preprocess Functions\n",
    "### Normalize\n",
    "In the cell below, implement the `normalize` function to take in image data, `x`, and return it as a normalized Numpy array. The values should be in the range of 0 to 1, inclusive.  The return object should be the same shape as `x`."
   ]
  },
  {
   "cell_type": "code",
   "execution_count": 3,
   "metadata": {
    "collapsed": false,
    "deletable": true,
    "editable": true
   },
   "outputs": [
    {
     "name": "stdout",
     "output_type": "stream",
     "text": [
      "Tests Passed\n"
     ]
    }
   ],
   "source": [
    "def normalize(x):\n",
    "    \"\"\"\n",
    "    Normalize a list of sample image data in the range of 0 to 1\n",
    "    : x: List of image data.  The image shape is (32, 32, 3)\n",
    "    : return: Numpy array of normalize data\n",
    "    \"\"\"\n",
    "    # TODO: Implement Function - hurray for np.arrays easy deviding by sclar!\n",
    "    return x / 255.0\n",
    "\n",
    "\"\"\"\n",
    "DON'T MODIFY ANYTHING IN THIS CELL THAT IS BELOW THIS LINE\n",
    "\"\"\"\n",
    "tests.test_normalize(normalize)"
   ]
  },
  {
   "cell_type": "markdown",
   "metadata": {
    "deletable": true,
    "editable": true
   },
   "source": [
    "### One-hot encode\n",
    "Just like the previous code cell, you'll be implementing a function for preprocessing.  This time, you'll implement the `one_hot_encode` function. The input, `x`, are a list of labels.  Implement the function to return the list of labels as One-Hot encoded Numpy array.  The possible values for labels are 0 to 9. The one-hot encoding function should return the same encoding for each value between each call to `one_hot_encode`.  Make sure to save the map of encodings outside the function.\n",
    "\n",
    "Hint: Don't reinvent the wheel."
   ]
  },
  {
   "cell_type": "code",
   "execution_count": 4,
   "metadata": {
    "collapsed": false,
    "deletable": true,
    "editable": true
   },
   "outputs": [
    {
     "name": "stdout",
     "output_type": "stream",
     "text": [
      "Tests Passed\n"
     ]
    }
   ],
   "source": [
    "from sklearn import preprocessing\n",
    "\n",
    "#why it's called map? I was lost for few moments becouse I thought I forget about something.\n",
    "#It's ouside just to prevent encoding badly becouse some label might not be in input x?\n",
    "soCalledMap = np.array([0,1,2,3,4,5,6,7,8,9])\n",
    "\n",
    "def one_hot_encode(x):\n",
    "    \"\"\"\n",
    "    One hot encode a list of sample labels. Return a one-hot encoded vector for each label.\n",
    "    : x: List of sample Labels\n",
    "    : return: Numpy array of one-hot encoded labels\n",
    "    \"\"\"\n",
    "    # TODO: Implement Function - implementation from One-Hot Encoding lesson\n",
    "    labels = np.array(soCalledMap)\n",
    "    lb = preprocessing.LabelBinarizer()\n",
    "    lb.fit(soCalledMap)\n",
    "    return lb.transform(x)\n",
    "\n",
    "\"\"\"\n",
    "DON'T MODIFY ANYTHING IN THIS CELL THAT IS BELOW THIS LINE\n",
    "\"\"\"\n",
    "tests.test_one_hot_encode(one_hot_encode)"
   ]
  },
  {
   "cell_type": "markdown",
   "metadata": {
    "deletable": true,
    "editable": true
   },
   "source": [
    "### Randomize Data\n",
    "As you saw from exploring the data above, the order of the samples are randomized.  It doesn't hurt to randomize it again, but you don't need to for this dataset."
   ]
  },
  {
   "cell_type": "markdown",
   "metadata": {
    "deletable": true,
    "editable": true
   },
   "source": [
    "## Preprocess all the data and save it\n",
    "Running the code cell below will preprocess all the CIFAR-10 data and save it to file. The code below also uses 10% of the training data for validation."
   ]
  },
  {
   "cell_type": "code",
   "execution_count": 5,
   "metadata": {
    "collapsed": false,
    "deletable": true,
    "editable": true
   },
   "outputs": [],
   "source": [
    "\"\"\"\n",
    "DON'T MODIFY ANYTHING IN THIS CELL\n",
    "\"\"\"\n",
    "# Preprocess Training, Validation, and Testing Data\n",
    "helper.preprocess_and_save_data(cifar10_dataset_folder_path, normalize, one_hot_encode)"
   ]
  },
  {
   "cell_type": "markdown",
   "metadata": {
    "deletable": true,
    "editable": true
   },
   "source": [
    "# Check Point\n",
    "This is your first checkpoint.  If you ever decide to come back to this notebook or have to restart the notebook, you can start from here.  The preprocessed data has been saved to disk."
   ]
  },
  {
   "cell_type": "code",
   "execution_count": 6,
   "metadata": {
    "collapsed": true,
    "deletable": true,
    "editable": true
   },
   "outputs": [],
   "source": [
    "\"\"\"\n",
    "DON'T MODIFY ANYTHING IN THIS CELL\n",
    "\"\"\"\n",
    "import pickle\n",
    "import problem_unittests as tests\n",
    "import helper\n",
    "\n",
    "# Load the Preprocessed Validation data\n",
    "valid_features, valid_labels = pickle.load(open('preprocess_validation.p', mode='rb'))"
   ]
  },
  {
   "cell_type": "markdown",
   "metadata": {
    "deletable": true,
    "editable": true
   },
   "source": [
    "## Build the network\n",
    "For the neural network, you'll build each layer into a function.  Most of the code you've seen has been outside of functions. To test your code more thoroughly, we require that you put each layer in a function.  This allows us to give you better feedback and test for simple mistakes using our unittests before you submit your project.\n",
    "\n",
    ">**Note:** If you're finding it hard to dedicate enough time for this course each week, we've provided a small shortcut to this part of the project. In the next couple of problems, you'll have the option to use classes from the [TensorFlow Layers](https://www.tensorflow.org/api_docs/python/tf/layers) or [TensorFlow Layers (contrib)](https://www.tensorflow.org/api_guides/python/contrib.layers) packages to build each layer, except the layers you build in the \"Convolutional and Max Pooling Layer\" section.  TF Layers is similar to Keras's and TFLearn's abstraction to layers, so it's easy to pickup.\n",
    "\n",
    ">However, if you would like to get the most out of this course, try to solve all the problems _without_ using anything from the TF Layers packages. You **can** still use classes from other packages that happen to have the same name as ones you find in TF Layers! For example, instead of using the TF Layers version of the `conv2d` class, [tf.layers.conv2d](https://www.tensorflow.org/api_docs/python/tf/layers/conv2d), you would want to use the TF Neural Network version of `conv2d`, [tf.nn.conv2d](https://www.tensorflow.org/api_docs/python/tf/nn/conv2d). \n",
    "\n",
    "Let's begin!\n",
    "\n",
    "### Input\n",
    "The neural network needs to read the image data, one-hot encoded labels, and dropout keep probability. Implement the following functions\n",
    "* Implement `neural_net_image_input`\n",
    " * Return a [TF Placeholder](https://www.tensorflow.org/api_docs/python/tf/placeholder)\n",
    " * Set the shape using `image_shape` with batch size set to `None`.\n",
    " * Name the TensorFlow placeholder \"x\" using the TensorFlow `name` parameter in the [TF Placeholder](https://www.tensorflow.org/api_docs/python/tf/placeholder).\n",
    "* Implement `neural_net_label_input`\n",
    " * Return a [TF Placeholder](https://www.tensorflow.org/api_docs/python/tf/placeholder)\n",
    " * Set the shape using `n_classes` with batch size set to `None`.\n",
    " * Name the TensorFlow placeholder \"y\" using the TensorFlow `name` parameter in the [TF Placeholder](https://www.tensorflow.org/api_docs/python/tf/placeholder).\n",
    "* Implement `neural_net_keep_prob_input`\n",
    " * Return a [TF Placeholder](https://www.tensorflow.org/api_docs/python/tf/placeholder) for dropout keep probability.\n",
    " * Name the TensorFlow placeholder \"keep_prob\" using the TensorFlow `name` parameter in the [TF Placeholder](https://www.tensorflow.org/api_docs/python/tf/placeholder).\n",
    "\n",
    "These names will be used at the end of the project to load your saved model.\n",
    "\n",
    "Note: `None` for shapes in TensorFlow allow for a dynamic size."
   ]
  },
  {
   "cell_type": "code",
   "execution_count": 7,
   "metadata": {
    "collapsed": false,
    "deletable": true,
    "editable": true
   },
   "outputs": [
    {
     "name": "stdout",
     "output_type": "stream",
     "text": [
      "Image Input Tests Passed.\n",
      "Label Input Tests Passed.\n",
      "Keep Prob Tests Passed.\n"
     ]
    }
   ],
   "source": [
    "import tensorflow as tf\n",
    "\n",
    "def neural_net_image_input(image_shape):\n",
    "    \"\"\"\n",
    "    Return a Tensor for a bach of image input\n",
    "    : image_shape: Shape of the images\n",
    "    : return: Tensor for image input.\n",
    "    \"\"\"\n",
    "    # TODO: Implement Function\n",
    "    #x = tf.placeholder(tf.float32, shape=[None, image_shape[0],image_shape[1],image_shape[2]], name=\"x\")\n",
    "    x = tf.placeholder(tf.float32, shape=([None]+(list(image_shape))), name='x') # can i do it easier?\n",
    "    return x\n",
    "\n",
    "\n",
    "def neural_net_label_input(n_classes):\n",
    "    \"\"\"\n",
    "    Return a Tensor for a batch of label input\n",
    "    : n_classes: Number of classes\n",
    "    : return: Tensor for label input.\n",
    "    \"\"\"\n",
    "    # TODO: Implement Function\n",
    "    y = tf.placeholder(tf.float32, shape= [None , n_classes], name='y')\n",
    "    return y\n",
    "\n",
    "\n",
    "def neural_net_keep_prob_input():\n",
    "    \"\"\"\n",
    "    Return a Tensor for keep probability\n",
    "    : return: Tensor for keep probability.\n",
    "    \"\"\"\n",
    "    # TODO: Implement Function\n",
    "    keep_prob = tf.placeholder(tf.float32, name=\"keep_prob\")\n",
    "    return keep_prob\n",
    "\n",
    "\n",
    "\"\"\"\n",
    "DON'T MODIFY ANYTHING IN THIS CELL THAT IS BELOW THIS LINE\n",
    "\"\"\"\n",
    "tf.reset_default_graph()\n",
    "tests.test_nn_image_inputs(neural_net_image_input)\n",
    "tests.test_nn_label_inputs(neural_net_label_input)\n",
    "tests.test_nn_keep_prob_inputs(neural_net_keep_prob_input)"
   ]
  },
  {
   "cell_type": "markdown",
   "metadata": {
    "deletable": true,
    "editable": true
   },
   "source": [
    "### Convolution and Max Pooling Layer\n",
    "Convolution layers have a lot of success with images. For this code cell, you should implement the function `conv2d_maxpool` to apply convolution then max pooling:\n",
    "* Create the weight and bias using `conv_ksize`, `conv_num_outputs` and the shape of `x_tensor`.\n",
    "* Apply a convolution to `x_tensor` using weight and `conv_strides`.\n",
    " * We recommend you use same padding, but you're welcome to use any padding.\n",
    "* Add bias\n",
    "* Add a nonlinear activation to the convolution.\n",
    "* Apply Max Pooling using `pool_ksize` and `pool_strides`.\n",
    " * We recommend you use same padding, but you're welcome to use any padding.\n",
    "\n",
    "**Note:** You **can't** use [TensorFlow Layers](https://www.tensorflow.org/api_docs/python/tf/layers) or [TensorFlow Layers (contrib)](https://www.tensorflow.org/api_guides/python/contrib.layers) for **this** layer, but you can still use TensorFlow's [Neural Network](https://www.tensorflow.org/api_docs/python/tf/nn) package. You may still use the shortcut option for all the **other** layers."
   ]
  },
  {
   "cell_type": "code",
   "execution_count": 8,
   "metadata": {
    "collapsed": false,
    "deletable": true,
    "editable": true
   },
   "outputs": [
    {
     "name": "stdout",
     "output_type": "stream",
     "text": [
      "Tests Passed\n"
     ]
    }
   ],
   "source": [
    "def conv2d_maxpool(x_tensor, conv_num_outputs, conv_ksize, conv_strides, pool_ksize, pool_strides):\n",
    "    \"\"\"\n",
    "    Apply convolution then max pooling to x_tensor\n",
    "    :param x_tensor: TensorFlow Tensor\n",
    "    :param conv_num_outputs: Number of outputs for the convolutional layer\n",
    "    \n",
    "    :param conv_ksize: kernal size 2-D Tuple for the convolutional layer (2,2)\n",
    "    :param conv_strides: Stride 2-D Tuple for convolution (4,4)\n",
    "    :param pool_ksize: kernal size 2-D Tuple for pool (2,2)\n",
    "    :param pool_strides: Stride 2-D Tuple for pool (2,2)\n",
    "    : return: A tensor that represents convolution and max pooling of x_tensor\n",
    "    \"\"\"\n",
    "    \n",
    "    # Apply Max Pooling - based on example from \"TensorFlow Convolution Layer\" lesson \n",
    "    color_channels = x_tensor.get_shape().as_list()[3] #why tere was not mentioning this? x_tensor.get_shape()[3] wont do :<\n",
    "    filter_size_width = conv_ksize[0] \n",
    "    filter_size_height = conv_ksize[1] \n",
    "    strideArray = [filter_size_height, filter_size_width, color_channels, conv_num_outputs]\n",
    "\n",
    "    weight = tf.Variable(tf.truncated_normal(strideArray,mean=0.0, stddev=0.1, dtype=tf.float32))\n",
    "    bias = tf.Variable(tf.zeros(conv_num_outputs))\n",
    "\n",
    "    #conv_layerConvolution = tf.nn.conv2d(x_tensor, weight, strides=[1, conv_strides[0], conv_strides[1], 1], padding='SAME')\n",
    "    conv_layerConvolution = tf.nn.conv2d(x_tensor, weight, strides=[1, conv_strides[0], conv_strides[1], 1], padding='VALID')\n",
    "    conv_layerBiased = tf.nn.bias_add(conv_layerConvolution, bias)\n",
    "    #conv_layerActivated = tf.nn.relu(conv_layerBiased) - changed to tanh to check\n",
    "    conv_layerActivated = tf.nn.elu(conv_layerBiased)\n",
    "    #conv_layerActivated = tf.tanh(conv_layerBiased)\n",
    "    \n",
    "    # Apply Max Pooling - based on example from \"TensorFlow Max Pooling\" lesson \n",
    "    # conv_layer = tf.nn.max_pool(conv_layer, ksize=[1, 2, 2, 1], strides=[1, 2, 2, 1], padding='SAME')\n",
    "    ksizeArray = [1,pool_ksize[0],pool_ksize[1],1]\n",
    "    kStridnesArray = [1,pool_strides[0],pool_strides[1],1]\n",
    "    #maxPoolingLayer=tf.nn.max_pool(conv_layerActivated,ksizeArray,kStridnesArray,padding='SAME')\n",
    "    maxPoolingLayer=tf.nn.max_pool(conv_layerActivated,ksizeArray,kStridnesArray,padding='VALID') \n",
    "    return maxPoolingLayer \n",
    "\n",
    "\n",
    "\"\"\"\n",
    "DON'T MODIFY ANYTHING IN THIS CELL THAT IS BELOW THIS LINE\n",
    "\"\"\"\n",
    "tests.test_con_pool(conv2d_maxpool)"
   ]
  },
  {
   "cell_type": "markdown",
   "metadata": {
    "deletable": true,
    "editable": true
   },
   "source": [
    "### Flatten Layer\n",
    "Implement the `flatten` function to change the dimension of `x_tensor` from a 4-D tensor to a 2-D tensor.  The output should be the shape (*Batch Size*, *Flattened Image Size*). Shortcut option: you can use classes from the [TensorFlow Layers](https://www.tensorflow.org/api_docs/python/tf/layers) or [TensorFlow Layers (contrib)](https://www.tensorflow.org/api_guides/python/contrib.layers) packages for this layer. For more of a challenge, only use other TensorFlow packages."
   ]
  },
  {
   "cell_type": "code",
   "execution_count": 9,
   "metadata": {
    "collapsed": false,
    "deletable": true,
    "editable": true
   },
   "outputs": [
    {
     "name": "stdout",
     "output_type": "stream",
     "text": [
      "Tests Passed\n"
     ]
    }
   ],
   "source": [
    "def flatten(x_tensor):\n",
    "    \"\"\"\n",
    "    Flatten x_tensor to (Batch Size, Flattened Image Size)\n",
    "    : x_tensor: A tensor of size (Batch Size, ...), where ... are the image dimensions.\n",
    "    : return: A tensor of size (Batch Size, Flattened Image Size).\n",
    "    \"\"\"\n",
    "    size = (x_tensor.get_shape().as_list())\n",
    "    #batchSize = size[0]   -why using that causes error? I have no idea - just used -1 as suggeted in: https://discussions.udacity.com/t/shape-when-flattening-the-tensor-from-4d-to-2d/225217/8 \n",
    "    # BUT EXPLANATION WOULD BE GREAT!\n",
    "    flattenedSize=1\n",
    "    for i in size[1:]:\n",
    "        flattenedSize*=i\n",
    "    \n",
    "    return tf.reshape(x_tensor,[-1,flattenedSize])\n",
    "\n",
    "\n",
    "\"\"\"\n",
    "DON'T MODIFY ANYTHING IN THIS CELL THAT IS BELOW THIS LINE\n",
    "\"\"\"\n",
    "tests.test_flatten(flatten)"
   ]
  },
  {
   "cell_type": "markdown",
   "metadata": {
    "deletable": true,
    "editable": true
   },
   "source": [
    "### Fully-Connected Layer\n",
    "Implement the `fully_conn` function to apply a fully connected layer to `x_tensor` with the shape (*Batch Size*, *num_outputs*). Shortcut option: you can use classes from the [TensorFlow Layers](https://www.tensorflow.org/api_docs/python/tf/layers) or [TensorFlow Layers (contrib)](https://www.tensorflow.org/api_guides/python/contrib.layers) packages for this layer. For more of a challenge, only use other TensorFlow packages."
   ]
  },
  {
   "cell_type": "code",
   "execution_count": 12,
   "metadata": {
    "collapsed": false
   },
   "outputs": [
    {
     "name": "stdout",
     "output_type": "stream",
     "text": [
      "Tests Passed\n"
     ]
    }
   ],
   "source": [
    "def fully_conn(x_tensor, num_outputs):\n",
    "    \"\"\"\n",
    "    Apply a fully connected layer to x_tensor using weight and bias\n",
    "    : x_tensor: A 2-D tensor where the first dimension is batch size.\n",
    "    : num_outputs: The number of output that the new tensor should be.\n",
    "    : return: A 2-D tensor where the second dimension is num_outputs.\n",
    "    \"\"\"\n",
    "    inputSize = x_tensor.get_shape().as_list()[1]\n",
    "    weight = tf.Variable(tf.truncated_normal([inputSize, num_outputs],mean=0.0, stddev=0.1, dtype=tf.float32))\n",
    "    bias = tf.Variable(tf.zeros(num_outputs))\n",
    "    fullConnetedLayer = tf.add(tf.matmul(x_tensor,weight),bias)\n",
    "    \n",
    "    #I applied activation because in next one we sould not and I dont see any more diffrences\n",
    "    fullConnetedLayerActivated = tf.nn.relu(fullConnetedLayer)\n",
    "    \n",
    "    return fullConnetedLayerActivated\n",
    "\n",
    "\n",
    "\"\"\"\n",
    "DON'T MODIFY ANYTHING IN THIS CELL THAT IS BELOW THIS LINE\n",
    "\"\"\"\n",
    "tests.test_fully_conn(fully_conn)"
   ]
  },
  {
   "cell_type": "markdown",
   "metadata": {
    "deletable": true,
    "editable": true
   },
   "source": [
    "### Output Layer\n",
    "Implement the `output` function to apply a fully connected layer to `x_tensor` with the shape (*Batch Size*, *num_outputs*). Shortcut option: you can use classes from the [TensorFlow Layers](https://www.tensorflow.org/api_docs/python/tf/layers) or [TensorFlow Layers (contrib)](https://www.tensorflow.org/api_guides/python/contrib.layers) packages for this layer. For more of a challenge, only use other TensorFlow packages.\n",
    "\n",
    "**Note:** Activation, softmax, or cross entropy should **not** be applied to this."
   ]
  },
  {
   "cell_type": "code",
   "execution_count": 13,
   "metadata": {
    "collapsed": false,
    "deletable": true,
    "editable": true
   },
   "outputs": [
    {
     "name": "stdout",
     "output_type": "stream",
     "text": [
      "Tests Passed\n"
     ]
    }
   ],
   "source": [
    "def output(x_tensor, num_outputs):\n",
    "    \"\"\"\n",
    "    Apply a output layer to x_tensor using weight and bias\n",
    "    : x_tensor: A 2-D tensor where the first dimension is batch size.\n",
    "    : num_outputs: The number of output that the new tensor should be.\n",
    "    : return: A 2-D tensor where the second dimension is num_outputs.\n",
    "    \"\"\"\n",
    "    inputSize = x_tensor.get_shape().as_list()[1]\n",
    "    weight = tf.Variable(tf.truncated_normal([inputSize, num_outputs],mean=0.0, stddev=0.1, dtype=tf.float32))\n",
    "    bias = tf.Variable(tf.zeros(num_outputs))\n",
    "    \n",
    "    fullConnetedLayer = tf.add(tf.matmul(x_tensor,weight),bias)\n",
    "    return fullConnetedLayer\n",
    "\n",
    "\n",
    "\"\"\"\n",
    "DON'T MODIFY ANYTHING IN THIS CELL THAT IS BELOW THIS LINE\n",
    "\"\"\"\n",
    "tests.test_output(output)"
   ]
  },
  {
   "cell_type": "markdown",
   "metadata": {
    "deletable": true,
    "editable": true
   },
   "source": [
    "### Create Convolutional Model\n",
    "Implement the function `conv_net` to create a convolutional neural network model. The function takes in a batch of images, `x`, and outputs logits.  Use the layers you created above to create this model:\n",
    "\n",
    "* Apply 1, 2, or 3 Convolution and Max Pool layers\n",
    "* Apply a Flatten Layer\n",
    "* Apply 1, 2, or 3 Fully Connected Layers\n",
    "* Apply an Output Layer\n",
    "* Return the output\n",
    "* Apply [TensorFlow's Dropout](https://www.tensorflow.org/api_docs/python/tf/nn/dropout) to one or more layers in the model using `keep_prob`. "
   ]
  },
  {
   "cell_type": "code",
   "execution_count": 28,
   "metadata": {
    "collapsed": false,
    "deletable": true,
    "editable": true
   },
   "outputs": [
    {
     "name": "stdout",
     "output_type": "stream",
     "text": [
      "Neural Network Built!\n"
     ]
    }
   ],
   "source": [
    "def conv_net(x, keep_prob):\n",
    "    \"\"\"\n",
    "    Create a convolutional neural network model\n",
    "    : x: Placeholder tensor that holds image data.\n",
    "    : keep_prob: Placeholder tensor that hold dropout keep probability.\n",
    "    : return: Tensor that represents logits\n",
    "    \"\"\"\n",
    "    # TODO: Apply 1, 2, or 3 Convolution and Max Pool layers\n",
    "    #    Play around with different number of outputs, kernel size and stride\n",
    "    # Function Definition from Above:\n",
    "    #    conv2d_maxpool(x_tensor, conv_num_outputs, conv_ksize, conv_strides, pool_ksize, pool_strides)\n",
    "    conv_num_outputs =  48 #just guessing, shoud it not be: [(input_height - filter_height + 2 * P)/S + 1]^2 * D ?\n",
    "    conv_ksize = (2,2) #(4,4)\n",
    "    conv_strides = (1,1) #(2,2)\n",
    "    pool_ksize = (2,2) #(4,4)\n",
    "    pool_strides = (1,1) #(2,2)\n",
    "    \n",
    "    \n",
    "    firstConvolution = conv2d_maxpool(x, conv_num_outputs, conv_ksize, conv_strides, pool_ksize, pool_strides)\n",
    "    secondConvolution = conv2d_maxpool(firstConvolution, 96, conv_ksize, conv_strides, pool_ksize, pool_strides)\n",
    "    #thirdConvolution = conv2d_maxpool(secondConvolution, 48, conv_ksize, conv_strides, pool_ksize, pool_strides)\n",
    "\n",
    "    # TODO: Apply a Flatten Layer\n",
    "    # Function Definition from Above:\n",
    "    #   flatten(x_tensor)\n",
    "\n",
    "    flattened = flatten(firstConvolution)\n",
    "\n",
    "    # TODO: Apply 1, 2, or 3 Fully Connected Layers\n",
    "    #    Play around with different number of outputs\n",
    "    # Function Definition from Above:\n",
    "    #   fully_conn(x_tensor, num_outputs)\n",
    "    \n",
    "    firstFullyConnected = fully_conn(flattened, 120)\n",
    "    firstFullyConnectedWithDropOut = tf.nn.dropout(firstFullyConnected, keep_prob)\n",
    "    \n",
    "    secondFullyConnected = fully_conn(firstFullyConnectedWithDropOut, 40)\n",
    "    secondFullyConnectedWithDropOut = tf.nn.dropout(secondFullyConnected, keep_prob)\n",
    "    \n",
    "    #third = fully_conn(secondFullyConnectedWithDropOut, 30)\n",
    "    \n",
    "    # TODO: Apply an Output Layer\n",
    "    #    Set this to the number of classes\n",
    "    # Function Definition from Above:\n",
    "    #   output(x_tensor, num_outputs)\n",
    "    \n",
    "    outputLeyer = output(secondFullyConnectedWithDropOut, 10)\n",
    "    \n",
    "    # TODO: return output\n",
    "    return outputLeyer\n",
    "\n",
    "\n",
    "\"\"\"\n",
    "DON'T MODIFY ANYTHING IN THIS CELL THAT IS BELOW THIS LINE\n",
    "\"\"\"\n",
    "\n",
    "##############################\n",
    "## Build the Neural Network ##\n",
    "##############################\n",
    "\n",
    "# Remove previous weights, bias, inputs, etc..\n",
    "tf.reset_default_graph()\n",
    "\n",
    "# Inputs\n",
    "x = neural_net_image_input((32, 32, 3))\n",
    "y = neural_net_label_input(10)\n",
    "keep_prob = neural_net_keep_prob_input()\n",
    "\n",
    "# Model\n",
    "logits = conv_net(x, keep_prob)\n",
    "\n",
    "# Name logits Tensor, so that is can be loaded from disk after training\n",
    "logits = tf.identity(logits, name='logits')\n",
    "\n",
    "# Loss and Optimizer\n",
    "cost = tf.reduce_mean(tf.nn.softmax_cross_entropy_with_logits(logits=logits, labels=y))\n",
    "optimizer = tf.train.AdamOptimizer().minimize(cost)\n",
    "\n",
    "# Accuracy\n",
    "correct_pred = tf.equal(tf.argmax(logits, 1), tf.argmax(y, 1))\n",
    "accuracy = tf.reduce_mean(tf.cast(correct_pred, tf.float32), name='accuracy')\n",
    "\n",
    "tests.test_conv_net(conv_net)"
   ]
  },
  {
   "cell_type": "markdown",
   "metadata": {
    "deletable": true,
    "editable": true
   },
   "source": [
    "## Train the Neural Network\n",
    "### Single Optimization\n",
    "Implement the function `train_neural_network` to do a single optimization.  The optimization should use `optimizer` to optimize in `session` with a `feed_dict` of the following:\n",
    "* `x` for image input\n",
    "* `y` for labels\n",
    "* `keep_prob` for keep probability for dropout\n",
    "\n",
    "This function will be called for each batch, so `tf.global_variables_initializer()` has already been called.\n",
    "\n",
    "Note: Nothing needs to be returned. This function is only optimizing the neural network."
   ]
  },
  {
   "cell_type": "code",
   "execution_count": 15,
   "metadata": {
    "collapsed": false,
    "deletable": true,
    "editable": true
   },
   "outputs": [
    {
     "name": "stdout",
     "output_type": "stream",
     "text": [
      "Tests Passed\n"
     ]
    }
   ],
   "source": [
    "def train_neural_network(session, optimizer, keep_probability, feature_batch, label_batch):\n",
    "    \"\"\"\n",
    "    Optimize the session on a batch of images and labels\n",
    "    : session: Current TensorFlow session\n",
    "    : optimizer: TensorFlow optimizer function\n",
    "    : keep_probability: keep probability\n",
    "    : feature_batch: Batch of Numpy image data\n",
    "    : label_batch: Batch of Numpy label data\n",
    "    \"\"\"\n",
    "    session.run(optimizer, feed_dict={x: feature_batch, y: label_batch, keep_prob: keep_probability})\n",
    "    pass\n",
    "\n",
    "\n",
    "\"\"\"\n",
    "DON'T MODIFY ANYTHING IN THIS CELL THAT IS BELOW THIS LINE\n",
    "\"\"\"\n",
    "tests.test_train_nn(train_neural_network)"
   ]
  },
  {
   "cell_type": "code",
   "execution_count": 16,
   "metadata": {
    "collapsed": false,
    "deletable": true,
    "editable": true
   },
   "outputs": [
    {
     "name": "stdout",
     "output_type": "stream",
     "text": [
      "Tests Passed\n"
     ]
    }
   ],
   "source": [
    "def fully_conn(x_tensor, num_outputs):\n",
    "    \"\"\"\n",
    "    Apply a fully connected layer to x_tensor using weight and bias\n",
    "    : x_tensor: A 2-D tensor where the first dimension is batch size.\n",
    "    : num_outputs: The number of output that the new tensor should be.\n",
    "    : return: A 2-D tensor where the second dimension is num_outputs.\n",
    "    \"\"\"\n",
    "    inputSize = x_tensor.get_shape().as_list()[1]\n",
    "    weight = tf.Variable(tf.truncated_normal([inputSize, num_outputs],mean=0.0, stddev=0.1, dtype=tf.float32))\n",
    "    bias = tf.Variable(tf.zeros(num_outputs))\n",
    "    fullConnetedLayer = tf.add(tf.matmul(x_tensor,weight),bias)\n",
    "    \n",
    "    #I applied activation because in next one we sould not and I dont see any more diffrences\n",
    "    #fullConnetedLayerActivated = tf.nn.relu(fullConnetedLayer)\n",
    "    #fullConnetedLayerActivated = tf.tanh(fullConnetedLayer)\n",
    "    fullConnetedLayerActivated = tf.nn.elu(fullConnetedLayer)\n",
    "    \n",
    "    return fullConnetedLayerActivated\n",
    "\n",
    "\n",
    "\"\"\"\n",
    "DON'T MODIFY ANYTHING IN THIS CELL THAT IS BELOW THIS LINE\n",
    "\"\"\"\n",
    "tests.test_fully_conn(fully_conn)"
   ]
  },
  {
   "cell_type": "markdown",
   "metadata": {
    "deletable": true,
    "editable": true
   },
   "source": [
    "### Show Stats\n",
    "Implement the function `print_stats` to print loss and validation accuracy.  Use the global variables `valid_features` and `valid_labels` to calculate validation accuracy.  Use a keep probability of `1.0` to calculate the loss and validation accuracy."
   ]
  },
  {
   "cell_type": "code",
   "execution_count": 17,
   "metadata": {
    "collapsed": false,
    "deletable": true,
    "editable": true
   },
   "outputs": [],
   "source": [
    "def print_stats(session, feature_batch, label_batch, cost, accuracy):\n",
    "    \"\"\"\n",
    "    Print information about loss and validation accuracy\n",
    "    : session: Current TensorFlow session\n",
    "    : feature_batch: Batch of Numpy image data\n",
    "    : label_batch: Batch of Numpy label data\n",
    "    : cost: TensorFlow cost function\n",
    "    : accuracy: TensorFlow accuracy function\n",
    "    \"\"\"\n",
    "    loss, acc  = session.run([cost, accuracy], feed_dict={x: valid_features,y: valid_labels, keep_prob: 1.0})\n",
    "    print('loss:',loss,'accuracy:',acc)\n",
    "    pass"
   ]
  },
  {
   "cell_type": "markdown",
   "metadata": {
    "deletable": true,
    "editable": true
   },
   "source": [
    "### Hyperparameters\n",
    "Tune the following parameters:\n",
    "* Set `epochs` to the number of iterations until the network stops learning or start overfitting\n",
    "* Set `batch_size` to the highest number that your machine has memory for.  Most people set them to common sizes of memory:\n",
    " * 64\n",
    " * 128\n",
    " * 256\n",
    " * ...\n",
    "* Set `keep_probability` to the probability of keeping a node using dropout"
   ]
  },
  {
   "cell_type": "code",
   "execution_count": 22,
   "metadata": {
    "collapsed": true,
    "deletable": true,
    "editable": true
   },
   "outputs": [],
   "source": [
    "# TODO: Tune Parameters\n",
    "epochs = 40\n",
    "batch_size = 512*2\n",
    "keep_probability = 0.7"
   ]
  },
  {
   "cell_type": "markdown",
   "metadata": {
    "deletable": true,
    "editable": true
   },
   "source": [
    "### Train on a Single CIFAR-10 Batch\n",
    "Instead of training the neural network on all the CIFAR-10 batches of data, let's use a single batch. This should save time while you iterate on the model to get a better accuracy.  Once the final validation accuracy is 50% or greater, run the model on all the data in the next section."
   ]
  },
  {
   "cell_type": "code",
   "execution_count": 29,
   "metadata": {
    "collapsed": false,
    "deletable": true,
    "editable": true
   },
   "outputs": [
    {
     "name": "stdout",
     "output_type": "stream",
     "text": [
      "Checking the Training on a Single Batch...\n",
      "Epoch  1, CIFAR-10 Batch 1:  loss: 2.22588 accuracy: 0.1582\n",
      "Epoch  2, CIFAR-10 Batch 1:  loss: 2.14048 accuracy: 0.1802\n",
      "Epoch  3, CIFAR-10 Batch 1:  loss: 2.0389 accuracy: 0.265\n",
      "Epoch  4, CIFAR-10 Batch 1:  loss: 1.97995 accuracy: 0.298\n",
      "Epoch  5, CIFAR-10 Batch 1:  loss: 1.91976 accuracy: 0.3242\n",
      "Epoch  6, CIFAR-10 Batch 1:  loss: 1.86332 accuracy: 0.3476\n",
      "Epoch  7, CIFAR-10 Batch 1:  loss: 1.8087 accuracy: 0.3602\n",
      "Epoch  8, CIFAR-10 Batch 1:  loss: 1.7532 accuracy: 0.3794\n",
      "Epoch  9, CIFAR-10 Batch 1:  loss: 1.71289 accuracy: 0.3968\n",
      "Epoch 10, CIFAR-10 Batch 1:  loss: 1.67623 accuracy: 0.407\n",
      "Epoch 11, CIFAR-10 Batch 1:  loss: 1.65132 accuracy: 0.4116\n",
      "Epoch 12, CIFAR-10 Batch 1:  loss: 1.60458 accuracy: 0.4272\n",
      "Epoch 13, CIFAR-10 Batch 1:  loss: 1.58419 accuracy: 0.436\n",
      "Epoch 14, CIFAR-10 Batch 1:  loss: 1.55925 accuracy: 0.4406\n",
      "Epoch 15, CIFAR-10 Batch 1:  loss: 1.5309 accuracy: 0.4522\n",
      "Epoch 16, CIFAR-10 Batch 1:  loss: 1.5209 accuracy: 0.4606\n",
      "Epoch 17, CIFAR-10 Batch 1:  loss: 1.49745 accuracy: 0.4596\n",
      "Epoch 18, CIFAR-10 Batch 1:  loss: 1.46606 accuracy: 0.4786\n",
      "Epoch 19, CIFAR-10 Batch 1:  loss: 1.46955 accuracy: 0.4712\n",
      "Epoch 20, CIFAR-10 Batch 1:  loss: 1.44283 accuracy: 0.4778\n",
      "Epoch 21, CIFAR-10 Batch 1:  loss: 1.43314 accuracy: 0.4824\n",
      "Epoch 22, CIFAR-10 Batch 1:  loss: 1.4064 accuracy: 0.4896\n",
      "Epoch 23, CIFAR-10 Batch 1:  loss: 1.40347 accuracy: 0.4944\n",
      "Epoch 24, CIFAR-10 Batch 1:  loss: 1.38315 accuracy: 0.5022\n",
      "Epoch 25, CIFAR-10 Batch 1:  loss: 1.36309 accuracy: 0.5128\n",
      "Epoch 26, CIFAR-10 Batch 1:  loss: 1.34748 accuracy: 0.5166\n",
      "Epoch 27, CIFAR-10 Batch 1:  loss: 1.33871 accuracy: 0.5184\n",
      "Epoch 28, CIFAR-10 Batch 1:  loss: 1.33174 accuracy: 0.5228\n",
      "Epoch 29, CIFAR-10 Batch 1:  loss: 1.33258 accuracy: 0.5234\n",
      "Epoch 30, CIFAR-10 Batch 1:  loss: 1.32421 accuracy: 0.528\n",
      "Epoch 31, CIFAR-10 Batch 1:  loss: 1.35012 accuracy: 0.5208\n",
      "Epoch 32, CIFAR-10 Batch 1:  loss: 1.32249 accuracy: 0.5346\n",
      "Epoch 33, CIFAR-10 Batch 1:  loss: 1.30424 accuracy: 0.5418\n",
      "Epoch 34, CIFAR-10 Batch 1:  loss: 1.32539 accuracy: 0.529\n",
      "Epoch 35, CIFAR-10 Batch 1:  loss: 1.29744 accuracy: 0.545\n",
      "Epoch 36, CIFAR-10 Batch 1:  loss: 1.30624 accuracy: 0.545\n",
      "Epoch 37, CIFAR-10 Batch 1:  loss: 1.28823 accuracy: 0.5512\n",
      "Epoch 38, CIFAR-10 Batch 1:  loss: 1.2893 accuracy: 0.5532\n",
      "Epoch 39, CIFAR-10 Batch 1:  loss: 1.31207 accuracy: 0.5476\n",
      "Epoch 40, CIFAR-10 Batch 1:  loss: 1.28563 accuracy: 0.5514\n"
     ]
    }
   ],
   "source": [
    "\"\"\"\n",
    "DON'T MODIFY ANYTHING IN THIS CELL\n",
    "\"\"\"\n",
    "print('Checking the Training on a Single Batch...')\n",
    "with tf.Session() as sess:\n",
    "    # Initializing the variables\n",
    "    sess.run(tf.global_variables_initializer())\n",
    "    \n",
    "    # Training cycle\n",
    "    for epoch in range(epochs):\n",
    "        batch_i = 1\n",
    "        for batch_features, batch_labels in helper.load_preprocess_training_batch(batch_i, batch_size):\n",
    "            train_neural_network(sess, optimizer, keep_probability, batch_features, batch_labels)\n",
    "        print('Epoch {:>2}, CIFAR-10 Batch {}:  '.format(epoch + 1, batch_i), end='')\n",
    "        print_stats(sess, batch_features, batch_labels, cost, accuracy)"
   ]
  },
  {
   "cell_type": "markdown",
   "metadata": {
    "deletable": true,
    "editable": true
   },
   "source": [
    "### Fully Train the Model\n",
    "Now that you got a good accuracy with a single CIFAR-10 batch, try it with all five batches."
   ]
  },
  {
   "cell_type": "code",
   "execution_count": 30,
   "metadata": {
    "collapsed": false,
    "deletable": true,
    "editable": true
   },
   "outputs": [
    {
     "name": "stdout",
     "output_type": "stream",
     "text": [
      "Training...\n",
      "Epoch  1, CIFAR-10 Batch 1:  loss: 2.241 accuracy: 0.164\n",
      "Epoch  1, CIFAR-10 Batch 2:  loss: 2.12081 accuracy: 0.26\n",
      "Epoch  1, CIFAR-10 Batch 3:  loss: 2.00975 accuracy: 0.2866\n",
      "Epoch  1, CIFAR-10 Batch 4:  loss: 1.92548 accuracy: 0.3226\n",
      "Epoch  1, CIFAR-10 Batch 5:  loss: 1.86549 accuracy: 0.3442\n",
      "Epoch  2, CIFAR-10 Batch 1:  loss: 1.79723 accuracy: 0.3716\n",
      "Epoch  2, CIFAR-10 Batch 2:  loss: 1.73321 accuracy: 0.395\n",
      "Epoch  2, CIFAR-10 Batch 3:  loss: 1.69306 accuracy: 0.4086\n",
      "Epoch  2, CIFAR-10 Batch 4:  loss: 1.67519 accuracy: 0.4034\n",
      "Epoch  2, CIFAR-10 Batch 5:  loss: 1.60232 accuracy: 0.446\n",
      "Epoch  3, CIFAR-10 Batch 1:  loss: 1.57947 accuracy: 0.4416\n",
      "Epoch  3, CIFAR-10 Batch 2:  loss: 1.53891 accuracy: 0.465\n",
      "Epoch  3, CIFAR-10 Batch 3:  loss: 1.51006 accuracy: 0.4662\n",
      "Epoch  3, CIFAR-10 Batch 4:  loss: 1.49399 accuracy: 0.4692\n",
      "Epoch  3, CIFAR-10 Batch 5:  loss: 1.45778 accuracy: 0.4818\n",
      "Epoch  4, CIFAR-10 Batch 1:  loss: 1.44341 accuracy: 0.4842\n",
      "Epoch  4, CIFAR-10 Batch 2:  loss: 1.43416 accuracy: 0.4864\n",
      "Epoch  4, CIFAR-10 Batch 3:  loss: 1.39177 accuracy: 0.5086\n",
      "Epoch  4, CIFAR-10 Batch 4:  loss: 1.38054 accuracy: 0.5062\n",
      "Epoch  4, CIFAR-10 Batch 5:  loss: 1.35541 accuracy: 0.521\n",
      "Epoch  5, CIFAR-10 Batch 1:  loss: 1.33731 accuracy: 0.5284\n",
      "Epoch  5, CIFAR-10 Batch 2:  loss: 1.36649 accuracy: 0.5206\n",
      "Epoch  5, CIFAR-10 Batch 3:  loss: 1.31586 accuracy: 0.5298\n",
      "Epoch  5, CIFAR-10 Batch 4:  loss: 1.3036 accuracy: 0.5306\n",
      "Epoch  5, CIFAR-10 Batch 5:  loss: 1.28259 accuracy: 0.5452\n",
      "Epoch  6, CIFAR-10 Batch 1:  loss: 1.27436 accuracy: 0.5504\n",
      "Epoch  6, CIFAR-10 Batch 2:  loss: 1.26244 accuracy: 0.5528\n",
      "Epoch  6, CIFAR-10 Batch 3:  loss: 1.24257 accuracy: 0.5628\n",
      "Epoch  6, CIFAR-10 Batch 4:  loss: 1.24978 accuracy: 0.5564\n",
      "Epoch  6, CIFAR-10 Batch 5:  loss: 1.23231 accuracy: 0.5668\n",
      "Epoch  7, CIFAR-10 Batch 1:  loss: 1.23509 accuracy: 0.5666\n",
      "Epoch  7, CIFAR-10 Batch 2:  loss: 1.24609 accuracy: 0.5596\n",
      "Epoch  7, CIFAR-10 Batch 3:  loss: 1.2215 accuracy: 0.5664\n",
      "Epoch  7, CIFAR-10 Batch 4:  loss: 1.22933 accuracy: 0.5678\n",
      "Epoch  7, CIFAR-10 Batch 5:  loss: 1.19943 accuracy: 0.578\n",
      "Epoch  8, CIFAR-10 Batch 1:  loss: 1.18166 accuracy: 0.5872\n",
      "Epoch  8, CIFAR-10 Batch 2:  loss: 1.18862 accuracy: 0.5866\n",
      "Epoch  8, CIFAR-10 Batch 3:  loss: 1.17991 accuracy: 0.5834\n",
      "Epoch  8, CIFAR-10 Batch 4:  loss: 1.16361 accuracy: 0.5912\n",
      "Epoch  8, CIFAR-10 Batch 5:  loss: 1.15338 accuracy: 0.5908\n",
      "Epoch  9, CIFAR-10 Batch 1:  loss: 1.14801 accuracy: 0.5926\n",
      "Epoch  9, CIFAR-10 Batch 2:  loss: 1.15544 accuracy: 0.5944\n",
      "Epoch  9, CIFAR-10 Batch 3:  loss: 1.14205 accuracy: 0.5988\n",
      "Epoch  9, CIFAR-10 Batch 4:  loss: 1.1409 accuracy: 0.5956\n",
      "Epoch  9, CIFAR-10 Batch 5:  loss: 1.13425 accuracy: 0.6006\n",
      "Epoch 10, CIFAR-10 Batch 1:  loss: 1.11692 accuracy: 0.6044\n",
      "Epoch 10, CIFAR-10 Batch 2:  loss: 1.12078 accuracy: 0.6046\n",
      "Epoch 10, CIFAR-10 Batch 3:  loss: 1.12324 accuracy: 0.604\n",
      "Epoch 10, CIFAR-10 Batch 4:  loss: 1.1103 accuracy: 0.6108\n",
      "Epoch 10, CIFAR-10 Batch 5:  loss: 1.10432 accuracy: 0.6128\n",
      "Epoch 11, CIFAR-10 Batch 1:  loss: 1.12559 accuracy: 0.5956\n",
      "Epoch 11, CIFAR-10 Batch 2:  loss: 1.09795 accuracy: 0.6114\n",
      "Epoch 11, CIFAR-10 Batch 3:  loss: 1.11545 accuracy: 0.6046\n",
      "Epoch 11, CIFAR-10 Batch 4:  loss: 1.08754 accuracy: 0.6158\n",
      "Epoch 11, CIFAR-10 Batch 5:  loss: 1.09175 accuracy: 0.6138\n",
      "Epoch 12, CIFAR-10 Batch 1:  loss: 1.10217 accuracy: 0.6104\n",
      "Epoch 12, CIFAR-10 Batch 2:  loss: 1.08927 accuracy: 0.6156\n",
      "Epoch 12, CIFAR-10 Batch 3:  loss: 1.09561 accuracy: 0.609\n",
      "Epoch 12, CIFAR-10 Batch 4:  loss: 1.10841 accuracy: 0.609\n",
      "Epoch 12, CIFAR-10 Batch 5:  loss: 1.10362 accuracy: 0.611\n",
      "Epoch 13, CIFAR-10 Batch 1:  loss: 1.0732 accuracy: 0.62\n",
      "Epoch 13, CIFAR-10 Batch 2:  loss: 1.06765 accuracy: 0.6208\n",
      "Epoch 13, CIFAR-10 Batch 3:  loss: 1.10187 accuracy: 0.6076\n",
      "Epoch 13, CIFAR-10 Batch 4:  loss: 1.06127 accuracy: 0.6258\n",
      "Epoch 13, CIFAR-10 Batch 5:  loss: 1.07119 accuracy: 0.6192\n",
      "Epoch 14, CIFAR-10 Batch 1:  loss: 1.06996 accuracy: 0.621\n",
      "Epoch 14, CIFAR-10 Batch 2:  loss: 1.06503 accuracy: 0.6226\n",
      "Epoch 14, CIFAR-10 Batch 3:  loss: 1.07647 accuracy: 0.6174\n",
      "Epoch 14, CIFAR-10 Batch 4:  loss: 1.06387 accuracy: 0.6238\n",
      "Epoch 14, CIFAR-10 Batch 5:  loss: 1.08599 accuracy: 0.622\n",
      "Epoch 15, CIFAR-10 Batch 1:  loss: 1.06177 accuracy: 0.624\n",
      "Epoch 15, CIFAR-10 Batch 2:  loss: 1.0692 accuracy: 0.6192\n",
      "Epoch 15, CIFAR-10 Batch 3:  loss: 1.09436 accuracy: 0.614\n",
      "Epoch 15, CIFAR-10 Batch 4:  loss: 1.1057 accuracy: 0.6124\n",
      "Epoch 15, CIFAR-10 Batch 5:  loss: 1.08329 accuracy: 0.6164\n",
      "Epoch 16, CIFAR-10 Batch 1:  loss: 1.05392 accuracy: 0.6234\n",
      "Epoch 16, CIFAR-10 Batch 2:  loss: 1.05183 accuracy: 0.6228\n",
      "Epoch 16, CIFAR-10 Batch 3:  loss: 1.04231 accuracy: 0.6318\n",
      "Epoch 16, CIFAR-10 Batch 4:  loss: 1.03732 accuracy: 0.637\n",
      "Epoch 16, CIFAR-10 Batch 5:  loss: 1.05295 accuracy: 0.623\n",
      "Epoch 17, CIFAR-10 Batch 1:  loss: 1.0416 accuracy: 0.6328\n",
      "Epoch 17, CIFAR-10 Batch 2:  loss: 1.03797 accuracy: 0.6324\n",
      "Epoch 17, CIFAR-10 Batch 3:  loss: 1.04214 accuracy: 0.6308\n",
      "Epoch 17, CIFAR-10 Batch 4:  loss: 1.03804 accuracy: 0.6376\n",
      "Epoch 17, CIFAR-10 Batch 5:  loss: 1.04759 accuracy: 0.6262\n",
      "Epoch 18, CIFAR-10 Batch 1:  loss: 1.03308 accuracy: 0.6362\n",
      "Epoch 18, CIFAR-10 Batch 2:  loss: 1.02945 accuracy: 0.635\n",
      "Epoch 18, CIFAR-10 Batch 3:  loss: 1.04833 accuracy: 0.631\n",
      "Epoch 18, CIFAR-10 Batch 4:  loss: 1.04157 accuracy: 0.6384\n",
      "Epoch 18, CIFAR-10 Batch 5:  loss: 1.03887 accuracy: 0.633\n",
      "Epoch 19, CIFAR-10 Batch 1:  loss: 1.03336 accuracy: 0.6352\n",
      "Epoch 19, CIFAR-10 Batch 2:  loss: 1.08935 accuracy: 0.6226\n",
      "Epoch 19, CIFAR-10 Batch 3:  loss: 1.05251 accuracy: 0.6282\n",
      "Epoch 19, CIFAR-10 Batch 4:  loss: 1.03538 accuracy: 0.6358\n",
      "Epoch 19, CIFAR-10 Batch 5:  loss: 1.05809 accuracy: 0.6332\n",
      "Epoch 20, CIFAR-10 Batch 1:  loss: 1.03354 accuracy: 0.6348\n",
      "Epoch 20, CIFAR-10 Batch 2:  loss: 1.0302 accuracy: 0.6398\n",
      "Epoch 20, CIFAR-10 Batch 3:  loss: 1.04085 accuracy: 0.6358\n",
      "Epoch 20, CIFAR-10 Batch 4:  loss: 1.04218 accuracy: 0.633\n",
      "Epoch 20, CIFAR-10 Batch 5:  loss: 1.04704 accuracy: 0.6364\n",
      "Epoch 21, CIFAR-10 Batch 1:  loss: 1.02677 accuracy: 0.6406\n",
      "Epoch 21, CIFAR-10 Batch 2:  loss: 1.02561 accuracy: 0.6388\n",
      "Epoch 21, CIFAR-10 Batch 3:  loss: 1.02723 accuracy: 0.6406\n",
      "Epoch 21, CIFAR-10 Batch 4:  loss: 1.03335 accuracy: 0.6348\n",
      "Epoch 21, CIFAR-10 Batch 5:  loss: 1.04476 accuracy: 0.638\n",
      "Epoch 22, CIFAR-10 Batch 1:  loss: 1.02148 accuracy: 0.639\n",
      "Epoch 22, CIFAR-10 Batch 2:  loss: 1.02649 accuracy: 0.6416\n",
      "Epoch 22, CIFAR-10 Batch 3:  loss: 1.02398 accuracy: 0.6432\n",
      "Epoch 22, CIFAR-10 Batch 4:  loss: 1.03134 accuracy: 0.639\n",
      "Epoch 22, CIFAR-10 Batch 5:  loss: 1.05061 accuracy: 0.6326\n",
      "Epoch 23, CIFAR-10 Batch 1:  loss: 1.0279 accuracy: 0.6424\n",
      "Epoch 23, CIFAR-10 Batch 2:  loss: 1.02742 accuracy: 0.6432\n",
      "Epoch 23, CIFAR-10 Batch 3:  loss: 1.03535 accuracy: 0.6344\n",
      "Epoch 23, CIFAR-10 Batch 4:  loss: 1.02822 accuracy: 0.6444\n",
      "Epoch 23, CIFAR-10 Batch 5:  loss: 1.038 accuracy: 0.6434\n",
      "Epoch 24, CIFAR-10 Batch 1:  loss: 1.0357 accuracy: 0.64\n",
      "Epoch 24, CIFAR-10 Batch 2:  loss: 1.04751 accuracy: 0.637\n",
      "Epoch 24, CIFAR-10 Batch 3:  loss: 1.02803 accuracy: 0.6406\n",
      "Epoch 24, CIFAR-10 Batch 4:  loss: 1.02234 accuracy: 0.6406\n",
      "Epoch 24, CIFAR-10 Batch 5:  loss: 1.04219 accuracy: 0.6408\n",
      "Epoch 25, CIFAR-10 Batch 1:  loss: 1.04472 accuracy: 0.636\n",
      "Epoch 25, CIFAR-10 Batch 2:  loss: 1.01882 accuracy: 0.646\n",
      "Epoch 25, CIFAR-10 Batch 3:  loss: 1.02672 accuracy: 0.6462\n",
      "Epoch 25, CIFAR-10 Batch 4:  loss: 1.0185 accuracy: 0.6524\n",
      "Epoch 25, CIFAR-10 Batch 5:  loss: 1.03769 accuracy: 0.6434\n",
      "Epoch 26, CIFAR-10 Batch 1:  loss: 1.03961 accuracy: 0.637\n",
      "Epoch 26, CIFAR-10 Batch 2:  loss: 1.0408 accuracy: 0.643\n",
      "Epoch 26, CIFAR-10 Batch 3:  loss: 1.0666 accuracy: 0.6334\n",
      "Epoch 26, CIFAR-10 Batch 4:  loss: 1.05763 accuracy: 0.637\n",
      "Epoch 26, CIFAR-10 Batch 5:  loss: 1.0545 accuracy: 0.6356\n",
      "Epoch 27, CIFAR-10 Batch 1:  loss: 1.02847 accuracy: 0.6348\n",
      "Epoch 27, CIFAR-10 Batch 2:  loss: 1.05576 accuracy: 0.6374\n",
      "Epoch 27, CIFAR-10 Batch 3:  loss: 1.03333 accuracy: 0.6438\n",
      "Epoch 27, CIFAR-10 Batch 4:  loss: 1.04194 accuracy: 0.6394\n",
      "Epoch 27, CIFAR-10 Batch 5:  loss: 1.06133 accuracy: 0.6392\n",
      "Epoch 28, CIFAR-10 Batch 1:  loss: 1.05482 accuracy: 0.6388\n",
      "Epoch 28, CIFAR-10 Batch 2:  loss: 1.05613 accuracy: 0.6452\n",
      "Epoch 28, CIFAR-10 Batch 3:  loss: 1.05778 accuracy: 0.6434\n",
      "Epoch 28, CIFAR-10 Batch 4:  loss: 1.04489 accuracy: 0.6486\n",
      "Epoch 28, CIFAR-10 Batch 5:  loss: 1.0592 accuracy: 0.6404\n",
      "Epoch 29, CIFAR-10 Batch 1:  loss: 1.04334 accuracy: 0.6436\n",
      "Epoch 29, CIFAR-10 Batch 2:  loss: 1.04676 accuracy: 0.6482\n",
      "Epoch 29, CIFAR-10 Batch 3:  loss: 1.03063 accuracy: 0.651\n",
      "Epoch 29, CIFAR-10 Batch 4:  loss: 1.02535 accuracy: 0.6522\n",
      "Epoch 29, CIFAR-10 Batch 5:  loss: 1.05648 accuracy: 0.6342\n",
      "Epoch 30, CIFAR-10 Batch 1:  loss: 1.05518 accuracy: 0.6424\n",
      "Epoch 30, CIFAR-10 Batch 2:  loss: 1.03852 accuracy: 0.65\n",
      "Epoch 30, CIFAR-10 Batch 3:  loss: 1.03588 accuracy: 0.6512\n",
      "Epoch 30, CIFAR-10 Batch 4:  loss: 1.03723 accuracy: 0.6536\n",
      "Epoch 30, CIFAR-10 Batch 5:  loss: 1.08385 accuracy: 0.6348\n",
      "Epoch 31, CIFAR-10 Batch 1:  loss: 1.05687 accuracy: 0.6432\n",
      "Epoch 31, CIFAR-10 Batch 2:  loss: 1.07081 accuracy: 0.6484\n",
      "Epoch 31, CIFAR-10 Batch 3:  loss: 1.0594 accuracy: 0.6462\n",
      "Epoch 31, CIFAR-10 Batch 4:  loss: 1.0511 accuracy: 0.6498\n",
      "Epoch 31, CIFAR-10 Batch 5:  loss: 1.06767 accuracy: 0.6418\n",
      "Epoch 32, CIFAR-10 Batch 1:  loss: 1.09404 accuracy: 0.6366\n",
      "Epoch 32, CIFAR-10 Batch 2:  loss: 1.05848 accuracy: 0.6436\n",
      "Epoch 32, CIFAR-10 Batch 3:  loss: 1.05878 accuracy: 0.6468\n",
      "Epoch 32, CIFAR-10 Batch 4:  loss: 1.072 accuracy: 0.6472\n",
      "Epoch 32, CIFAR-10 Batch 5:  loss: 1.08346 accuracy: 0.6474\n",
      "Epoch 33, CIFAR-10 Batch 1:  loss: 1.07825 accuracy: 0.6478\n",
      "Epoch 33, CIFAR-10 Batch 2:  loss: 1.07605 accuracy: 0.6478\n",
      "Epoch 33, CIFAR-10 Batch 3:  loss: 1.08789 accuracy: 0.648\n",
      "Epoch 33, CIFAR-10 Batch 4:  loss: 1.11208 accuracy: 0.633\n",
      "Epoch 33, CIFAR-10 Batch 5:  loss: 1.06182 accuracy: 0.6484\n",
      "Epoch 34, CIFAR-10 Batch 1:  loss: 1.10114 accuracy: 0.6432\n",
      "Epoch 34, CIFAR-10 Batch 2:  loss: 1.06826 accuracy: 0.6374\n",
      "Epoch 34, CIFAR-10 Batch 3:  loss: 1.07546 accuracy: 0.6478\n",
      "Epoch 34, CIFAR-10 Batch 4:  loss: 1.09367 accuracy: 0.648\n",
      "Epoch 34, CIFAR-10 Batch 5:  loss: 1.09388 accuracy: 0.6398\n",
      "Epoch 35, CIFAR-10 Batch 1:  loss: 1.10288 accuracy: 0.6408\n",
      "Epoch 35, CIFAR-10 Batch 2:  loss: 1.08922 accuracy: 0.6412\n",
      "Epoch 35, CIFAR-10 Batch 3:  loss: 1.07199 accuracy: 0.6504\n",
      "Epoch 35, CIFAR-10 Batch 4:  loss: 1.05749 accuracy: 0.6524\n",
      "Epoch 35, CIFAR-10 Batch 5:  loss: 1.09748 accuracy: 0.6406\n",
      "Epoch 36, CIFAR-10 Batch 1:  loss: 1.096 accuracy: 0.645\n",
      "Epoch 36, CIFAR-10 Batch 2:  loss: 1.11533 accuracy: 0.6358\n",
      "Epoch 36, CIFAR-10 Batch 3:  loss: 1.10944 accuracy: 0.6496\n",
      "Epoch 36, CIFAR-10 Batch 4:  loss: 1.0824 accuracy: 0.6498\n",
      "Epoch 36, CIFAR-10 Batch 5:  loss: 1.10576 accuracy: 0.6426\n",
      "Epoch 37, CIFAR-10 Batch 1:  loss: 1.09213 accuracy: 0.6484\n",
      "Epoch 37, CIFAR-10 Batch 2:  loss: 1.11235 accuracy: 0.6406\n",
      "Epoch 37, CIFAR-10 Batch 3:  loss: 1.13205 accuracy: 0.6428\n",
      "Epoch 37, CIFAR-10 Batch 4:  loss: 1.10957 accuracy: 0.6436\n",
      "Epoch 37, CIFAR-10 Batch 5:  loss: 1.09681 accuracy: 0.6522\n",
      "Epoch 38, CIFAR-10 Batch 1:  loss: 1.16241 accuracy: 0.6394\n",
      "Epoch 38, CIFAR-10 Batch 2:  loss: 1.13437 accuracy: 0.638\n",
      "Epoch 38, CIFAR-10 Batch 3:  loss: 1.11632 accuracy: 0.6444\n",
      "Epoch 38, CIFAR-10 Batch 4:  loss: 1.11966 accuracy: 0.6378\n",
      "Epoch 38, CIFAR-10 Batch 5:  loss: 1.10067 accuracy: 0.6448\n",
      "Epoch 39, CIFAR-10 Batch 1:  loss: 1.1402 accuracy: 0.641\n",
      "Epoch 39, CIFAR-10 Batch 2:  loss: 1.09117 accuracy: 0.6436\n",
      "Epoch 39, CIFAR-10 Batch 3:  loss: 1.13571 accuracy: 0.6352\n",
      "Epoch 39, CIFAR-10 Batch 4:  loss: 1.16926 accuracy: 0.6396\n",
      "Epoch 39, CIFAR-10 Batch 5:  loss: 1.09516 accuracy: 0.6494\n",
      "Epoch 40, CIFAR-10 Batch 1:  loss: 1.1292 accuracy: 0.6406\n",
      "Epoch 40, CIFAR-10 Batch 2:  loss: 1.10553 accuracy: 0.6464\n",
      "Epoch 40, CIFAR-10 Batch 3:  loss: 1.11331 accuracy: 0.6476\n",
      "Epoch 40, CIFAR-10 Batch 4:  loss: 1.14367 accuracy: 0.6456\n",
      "Epoch 40, CIFAR-10 Batch 5:  loss: 1.08892 accuracy: 0.6504\n"
     ]
    }
   ],
   "source": [
    "\"\"\"\n",
    "DON'T MODIFY ANYTHING IN THIS CELL\n",
    "\"\"\"\n",
    "save_model_path = './image_classification'\n",
    "\n",
    "print('Training...')\n",
    "with tf.Session() as sess:\n",
    "    # Initializing the variables\n",
    "    sess.run(tf.global_variables_initializer())\n",
    "    \n",
    "    # Training cycle\n",
    "    for epoch in range(epochs):\n",
    "        # Loop over all batches\n",
    "        n_batches = 5\n",
    "        for batch_i in range(1, n_batches + 1):\n",
    "            for batch_features, batch_labels in helper.load_preprocess_training_batch(batch_i, batch_size):\n",
    "                train_neural_network(sess, optimizer, keep_probability, batch_features, batch_labels)\n",
    "            print('Epoch {:>2}, CIFAR-10 Batch {}:  '.format(epoch + 1, batch_i), end='')\n",
    "            print_stats(sess, batch_features, batch_labels, cost, accuracy)\n",
    "            \n",
    "    # Save Model\n",
    "    saver = tf.train.Saver()\n",
    "    save_path = saver.save(sess, save_model_path)"
   ]
  },
  {
   "cell_type": "markdown",
   "metadata": {
    "deletable": true,
    "editable": true
   },
   "source": [
    "# Checkpoint\n",
    "The model has been saved to disk.\n",
    "## Test Model\n",
    "Test your model against the test dataset.  This will be your final accuracy. You should have an accuracy greater than 50%. If you don't, keep tweaking the model architecture and parameters."
   ]
  },
  {
   "cell_type": "code",
   "execution_count": 31,
   "metadata": {
    "collapsed": false,
    "deletable": true,
    "editable": true
   },
   "outputs": [
    {
     "name": "stdout",
     "output_type": "stream",
     "text": [
      "Testing Accuracy: 0.650007963180542\n",
      "\n"
     ]
    },
    {
     "data": {
      "image/png": "[encoded data removed]",
      "text/plain": [
       "<matplotlib.figure.Figure at 0x7fb39a500f98>"
      ]
     },
     "metadata": {
      "image/png": {
       "height": 319,
       "width": 355
      }
     },
     "output_type": "display_data"
    }
   ],
   "source": [
    "\"\"\"\n",
    "DON'T MODIFY ANYTHING IN THIS CELL\n",
    "\"\"\"\n",
    "%matplotlib inline\n",
    "%config InlineBackend.figure_format = 'retina'\n",
    "\n",
    "import tensorflow as tf\n",
    "import pickle\n",
    "import helper\n",
    "import random\n",
    "\n",
    "# Set batch size if not already set\n",
    "try:\n",
    "    if batch_size:\n",
    "        pass\n",
    "except NameError:\n",
    "    batch_size = 64\n",
    "\n",
    "save_model_path = './image_classification'\n",
    "n_samples = 4\n",
    "top_n_predictions = 3\n",
    "\n",
    "def test_model():\n",
    "    \"\"\"\n",
    "    Test the saved model against the test dataset\n",
    "    \"\"\"\n",
    "\n",
    "    test_features, test_labels = pickle.load(open('preprocess_training.p', mode='rb'))\n",
    "    loaded_graph = tf.Graph()\n",
    "\n",
    "    with tf.Session(graph=loaded_graph) as sess:\n",
    "        # Load model\n",
    "        loader = tf.train.import_meta_graph(save_model_path + '.meta')\n",
    "        loader.restore(sess, save_model_path)\n",
    "\n",
    "        # Get Tensors from loaded model\n",
    "        loaded_x = loaded_graph.get_tensor_by_name('x:0')\n",
    "        loaded_y = loaded_graph.get_tensor_by_name('y:0')\n",
    "        loaded_keep_prob = loaded_graph.get_tensor_by_name('keep_prob:0')\n",
    "        loaded_logits = loaded_graph.get_tensor_by_name('logits:0')\n",
    "        loaded_acc = loaded_graph.get_tensor_by_name('accuracy:0')\n",
    "        \n",
    "        # Get accuracy in batches for memory limitations\n",
    "        test_batch_acc_total = 0\n",
    "        test_batch_count = 0\n",
    "        \n",
    "        for train_feature_batch, train_label_batch in helper.batch_features_labels(test_features, test_labels, batch_size):\n",
    "            test_batch_acc_total += sess.run(\n",
    "                loaded_acc,\n",
    "                feed_dict={loaded_x: train_feature_batch, loaded_y: train_label_batch, loaded_keep_prob: 1.0})\n",
    "            test_batch_count += 1\n",
    "\n",
    "        print('Testing Accuracy: {}\\n'.format(test_batch_acc_total/test_batch_count))\n",
    "\n",
    "        # Print Random Samples\n",
    "        random_test_features, random_test_labels = tuple(zip(*random.sample(list(zip(test_features, test_labels)), n_samples)))\n",
    "        random_test_predictions = sess.run(\n",
    "            tf.nn.top_k(tf.nn.softmax(loaded_logits), top_n_predictions),\n",
    "            feed_dict={loaded_x: random_test_features, loaded_y: random_test_labels, loaded_keep_prob: 1.0})\n",
    "        helper.display_image_predictions(random_test_features, random_test_labels, random_test_predictions)\n",
    "\n",
    "\n",
    "test_model()"
   ]
  },
  {
   "cell_type": "markdown",
   "metadata": {
    "deletable": true,
    "editable": true
   },
   "source": [
    "## Why 50-70% Accuracy?\n",
    "You might be wondering why you can't get an accuracy any higher. First things first, 50% isn't bad for a simple CNN.  Pure guessing would get you 10% accuracy. However, you might notice people are getting scores [well above 70%](http://rodrigob.github.io/are_we_there_yet/build/classification_datasets_results.html#43494641522d3130).  That's because we haven't taught you all there is to know about neural networks. We still need to cover a few more techniques.\n",
    "## Submitting This Project\n",
    "When submitting this project, make sure to run all the cells before saving the notebook.  Save the notebook file as \"dlnd_image_classification.ipynb\" and save it as a HTML file under \"File\" -> \"Download as\".  Include the \"helper.py\" and \"problem_unittests.py\" files in your submission."
   ]
  }
 ],
 "metadata": {
  "kernelspec": {
   "display_name": "Python 3",
   "language": "python",
   "name": "python3"
  },
  "language_info": {
   "codemirror_mode": {
    "name": "ipython",
    "version": 3
   },
   "file_extension": ".py",
   "mimetype": "text/x-python",
   "name": "python",
   "nbconvert_exporter": "python",
   "pygments_lexer": "ipython3",
   "version": "3.5.2"
  },
  "widgets": {
   "state": {},
   "version": "1.1.2"
  }
 },
 "nbformat": 4,
 "nbformat_minor": 0
}
